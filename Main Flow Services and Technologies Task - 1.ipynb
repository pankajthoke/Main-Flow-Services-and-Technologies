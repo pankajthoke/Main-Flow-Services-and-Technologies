{
 "cells": [
  {
   "cell_type": "markdown",
   "id": "c15f6bc6-bce1-4460-a0b4-8dd29e7c12c6",
   "metadata": {},
   "source": [
    "# Main Flow Services and Technologies (Task - 1)"
   ]
  },
  {
   "cell_type": "markdown",
   "id": "741f0d65-9978-4aef-beeb-bde52b3f72e3",
   "metadata": {},
   "source": [
    "### List -> (create, add, remove, modify)"
   ]
  },
  {
   "cell_type": "code",
   "execution_count": 36,
   "id": "97c415c0-dbf5-4aff-b417-ff837a82bd9f",
   "metadata": {},
   "outputs": [
    {
     "name": "stdout",
     "output_type": "stream",
     "text": [
      "Updated List: ['Apple', 'Mango', 'Cherry', 'Pineapple']\n"
     ]
    }
   ],
   "source": [
    "# Creating a List\n",
    "fruit_list = [\"Apple\", \"Banana\", \"Orange\", \"Cherry\"]\n",
    "\n",
    "# Adding Element in List\n",
    "fruit_list.append(\"Pineapple\")\n",
    "\n",
    "# Removing Element from List\n",
    "fruit_list.remove(\"Banana\")\n",
    "\n",
    "# Modifying Element in List\n",
    "fruit_list[1] = \"Mango\"\n",
    "\n",
    "print(\"Updated List:\", fruit_list)"
   ]
  },
  {
   "cell_type": "markdown",
   "id": "fa13a5aa-1715-4f01-9a1c-2e1c3e155327",
   "metadata": {},
   "source": [
    "### Dictionary -> (create, add, remove, modify)"
   ]
  },
  {
   "cell_type": "code",
   "execution_count": 37,
   "id": "fc4748df-d93b-442c-a420-3e7ca99f1392",
   "metadata": {},
   "outputs": [
    {
     "name": "stdout",
     "output_type": "stream",
     "text": [
      "Updated Dictionary: {'Brand': 'BMW Motors', 'Model': 'Suv', 'Loc': 'Germany'}\n"
     ]
    }
   ],
   "source": [
    "# Creating a Dictionary\n",
    "car_dict = {\"Brand\": \"BMW\", \"Model\": \"Suv\", \"Year\": 2020}\n",
    "\n",
    "# Adding Element in Dictionary\n",
    "car_dict[\"Loc\"] = \"Germany\"\n",
    "\n",
    "# Removing Element from Dictionary\n",
    "del car_dict[\"Year\"]\n",
    "\n",
    "# Modifying Element in Dictionary\n",
    "car_dict[\"Brand\"] = \"BMW Motors\"\n",
    "\n",
    "print(\"Updated Dictionary:\", car_dict)"
   ]
  },
  {
   "cell_type": "markdown",
   "id": "5184ee0d-493c-4d0b-99ed-e32db4b395a5",
   "metadata": {},
   "source": [
    "### Set -> (create, add, remove, modify)"
   ]
  },
  {
   "cell_type": "code",
   "execution_count": 39,
   "id": "ae1385bd-28f4-4488-b01a-c87048472da3",
   "metadata": {},
   "outputs": [
    {
     "name": "stdout",
     "output_type": "stream",
     "text": [
      "Updated Set: {'Red', 'Purple', 'Black', 'Maroon'}\n"
     ]
    }
   ],
   "source": [
    "# Creating a Set\n",
    "color_set = {\"White\", \"Black\", \"Yellow\", \"Purple\"}\n",
    "\n",
    "# Adding Element in Set\n",
    "color_set.add(\"Red\")\n",
    "\n",
    "# Removing Element from Set\n",
    "color_set.remove(\"Yellow\")\n",
    "\n",
    "# Modifying Element in Set\n",
    "color_set.discard(\"White\")\n",
    "color_set.add(\"Maroon\")\n",
    "\n",
    "print (\"Updated Set:\", color_set)"
   ]
  }
 ],
 "metadata": {
  "kernelspec": {
   "display_name": "Python 3 (ipykernel)",
   "language": "python",
   "name": "python3"
  },
  "language_info": {
   "codemirror_mode": {
    "name": "ipython",
    "version": 3
   },
   "file_extension": ".py",
   "mimetype": "text/x-python",
   "name": "python",
   "nbconvert_exporter": "python",
   "pygments_lexer": "ipython3",
   "version": "3.12.1"
  }
 },
 "nbformat": 4,
 "nbformat_minor": 5
}
